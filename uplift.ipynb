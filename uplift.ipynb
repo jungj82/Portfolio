{
 "cells": [
  {
   "cell_type": "markdown",
   "id": "7a1b3148",
   "metadata": {},
   "source": [
    "Initial Setup"
   ]
  },
  {
   "cell_type": "code",
   "execution_count": 1,
   "id": "9766397a",
   "metadata": {},
   "outputs": [],
   "source": [
    "import pandas as pd\n",
    "import numpy as np\n",
    "from sklearn.model_selection import train_test_split, GridSearchCV\n",
    "from sklearn.preprocessing import StandardScaler, OneHotEncoder\n",
    "from sklearn.compose import ColumnTransformer\n",
    "from sklearn.pipeline import Pipeline\n",
    "from sklearn.linear_model import LogisticRegression\n",
    "from sklearn.ensemble import RandomForestClassifier\n",
    "from sklearn.metrics import roc_auc_score\n",
    "import xgboost as xgb\n",
    "\n",
    "import matplotlib.pyplot as plt\n",
    "from sklearn.metrics import roc_curve"
   ]
  },
  {
   "cell_type": "code",
   "execution_count": 21,
   "id": "db95c431",
   "metadata": {},
   "outputs": [],
   "source": [
    "# Define hyperparameters\n",
    "tl_hyperparameters = {\n",
    "    'lr': {'penalty': 'l2', 'C': 0.01},\n",
    "    'rf': {'n_estimators': 100, 'max_depth': 5}\n",
    "}\n",
    "\n",
    "xgb_hyperparameters = {\n",
    "    'eta': 0.05,\n",
    "    'max_depth': 10,\n",
    "    'subsample': 0.8,\n",
    "    'colsample_bytree': 0.8,\n",
    "    'objective': 'binary:logistic',\n",
    "    'eval_metric': 'auc',\n",
    "    'lambda': 1,\n",
    "    'alpha': 0\n",
    "}"
   ]
  },
  {
   "cell_type": "code",
   "execution_count": 3,
   "id": "7ed9a00c",
   "metadata": {},
   "outputs": [
    {
     "data": {
      "text/html": [
       "<div>\n",
       "<style scoped>\n",
       "    .dataframe tbody tr th:only-of-type {\n",
       "        vertical-align: middle;\n",
       "    }\n",
       "\n",
       "    .dataframe tbody tr th {\n",
       "        vertical-align: top;\n",
       "    }\n",
       "\n",
       "    .dataframe thead th {\n",
       "        text-align: right;\n",
       "    }\n",
       "</style>\n",
       "<table border=\"1\" class=\"dataframe\">\n",
       "  <thead>\n",
       "    <tr style=\"text-align: right;\">\n",
       "      <th></th>\n",
       "      <th>recency</th>\n",
       "      <th>history_segment</th>\n",
       "      <th>history</th>\n",
       "      <th>mens</th>\n",
       "      <th>womens</th>\n",
       "      <th>zip_code</th>\n",
       "      <th>newbie</th>\n",
       "      <th>channel</th>\n",
       "      <th>segment</th>\n",
       "      <th>visit</th>\n",
       "      <th>conversion</th>\n",
       "      <th>spend</th>\n",
       "    </tr>\n",
       "  </thead>\n",
       "  <tbody>\n",
       "    <tr>\n",
       "      <th>0</th>\n",
       "      <td>10</td>\n",
       "      <td>2) $100 - $200</td>\n",
       "      <td>142.44</td>\n",
       "      <td>1</td>\n",
       "      <td>0</td>\n",
       "      <td>Surburban</td>\n",
       "      <td>0</td>\n",
       "      <td>Phone</td>\n",
       "      <td>Womens E-Mail</td>\n",
       "      <td>0</td>\n",
       "      <td>0</td>\n",
       "      <td>0.0</td>\n",
       "    </tr>\n",
       "    <tr>\n",
       "      <th>1</th>\n",
       "      <td>6</td>\n",
       "      <td>3) $200 - $350</td>\n",
       "      <td>329.08</td>\n",
       "      <td>1</td>\n",
       "      <td>1</td>\n",
       "      <td>Rural</td>\n",
       "      <td>1</td>\n",
       "      <td>Web</td>\n",
       "      <td>No E-Mail</td>\n",
       "      <td>0</td>\n",
       "      <td>0</td>\n",
       "      <td>0.0</td>\n",
       "    </tr>\n",
       "    <tr>\n",
       "      <th>2</th>\n",
       "      <td>7</td>\n",
       "      <td>2) $100 - $200</td>\n",
       "      <td>180.65</td>\n",
       "      <td>0</td>\n",
       "      <td>1</td>\n",
       "      <td>Surburban</td>\n",
       "      <td>1</td>\n",
       "      <td>Web</td>\n",
       "      <td>Womens E-Mail</td>\n",
       "      <td>0</td>\n",
       "      <td>0</td>\n",
       "      <td>0.0</td>\n",
       "    </tr>\n",
       "    <tr>\n",
       "      <th>3</th>\n",
       "      <td>9</td>\n",
       "      <td>5) $500 - $750</td>\n",
       "      <td>675.83</td>\n",
       "      <td>1</td>\n",
       "      <td>0</td>\n",
       "      <td>Rural</td>\n",
       "      <td>1</td>\n",
       "      <td>Web</td>\n",
       "      <td>Mens E-Mail</td>\n",
       "      <td>0</td>\n",
       "      <td>0</td>\n",
       "      <td>0.0</td>\n",
       "    </tr>\n",
       "    <tr>\n",
       "      <th>4</th>\n",
       "      <td>2</td>\n",
       "      <td>1) $0 - $100</td>\n",
       "      <td>45.34</td>\n",
       "      <td>1</td>\n",
       "      <td>0</td>\n",
       "      <td>Urban</td>\n",
       "      <td>0</td>\n",
       "      <td>Web</td>\n",
       "      <td>Womens E-Mail</td>\n",
       "      <td>0</td>\n",
       "      <td>0</td>\n",
       "      <td>0.0</td>\n",
       "    </tr>\n",
       "  </tbody>\n",
       "</table>\n",
       "</div>"
      ],
      "text/plain": [
       "   recency history_segment  history  mens  womens   zip_code  newbie channel  \\\n",
       "0       10  2) $100 - $200   142.44     1       0  Surburban       0   Phone   \n",
       "1        6  3) $200 - $350   329.08     1       1      Rural       1     Web   \n",
       "2        7  2) $100 - $200   180.65     0       1  Surburban       1     Web   \n",
       "3        9  5) $500 - $750   675.83     1       0      Rural       1     Web   \n",
       "4        2    1) $0 - $100    45.34     1       0      Urban       0     Web   \n",
       "\n",
       "         segment  visit  conversion  spend  \n",
       "0  Womens E-Mail      0           0    0.0  \n",
       "1      No E-Mail      0           0    0.0  \n",
       "2  Womens E-Mail      0           0    0.0  \n",
       "3    Mens E-Mail      0           0    0.0  \n",
       "4  Womens E-Mail      0           0    0.0  "
      ]
     },
     "execution_count": 3,
     "metadata": {},
     "output_type": "execute_result"
    }
   ],
   "source": [
    "df = pd.read_csv(\"Kevin_Hillstrom_MineThatData_E-MailAnalytics_DataMiningChallenge_2008.03.20.csv\")\n",
    "df.head()"
   ]
  },
  {
   "cell_type": "markdown",
   "id": "3438f585",
   "metadata": {},
   "source": [
    "**Recency**: Months since last purchase.\\\n",
    "**History_Segment**: Categorization of dollars spent in the past year.\\\n",
    "**History**: Actual dollar value spent in the past year.\\\n",
    "**Mens**: 1/0 indicator, 1 = customer purchased Mens merchandise in the past year.\\\n",
    "**Womens**: 1/0 indicator, 1 = customer purchased Womens merchandise in the past year.\\\n",
    "**Zip_Code**: Classifies zip code as Urban, Suburban, or Rural.\\\n",
    "**Newbie**: 1/0 indicator, 1 = New customer in the past twelve months.\\\n",
    "**Channel**: Describes the channels the customer purchased from in the past year.\n",
    "\n",
    "**Segment**\\\n",
    "Mens E-Mail\\\n",
    "Womens E-Mail\\\n",
    "No E-Mail\n",
    "\n",
    "**Visit**: 1/0 indicator, 1 = Customer visited website in the following two weeks.\\\n",
    "**Conversion**: 1/0 indicator, 1 = Customer purchased merchandise in the following two weeks.\\\n",
    "**Spend**: Actual dollars spent in the following two weeks."
   ]
  },
  {
   "cell_type": "code",
   "execution_count": 4,
   "id": "9c78e6f3",
   "metadata": {},
   "outputs": [],
   "source": [
    "# Drop the 'history_segment' column\n",
    "df.drop(columns=['history_segment'], inplace=True)"
   ]
  },
  {
   "cell_type": "code",
   "execution_count": 5,
   "id": "611c4d95",
   "metadata": {},
   "outputs": [
    {
     "data": {
      "text/html": [
       "<div>\n",
       "<style scoped>\n",
       "    .dataframe tbody tr th:only-of-type {\n",
       "        vertical-align: middle;\n",
       "    }\n",
       "\n",
       "    .dataframe tbody tr th {\n",
       "        vertical-align: top;\n",
       "    }\n",
       "\n",
       "    .dataframe thead th {\n",
       "        text-align: right;\n",
       "    }\n",
       "</style>\n",
       "<table border=\"1\" class=\"dataframe\">\n",
       "  <thead>\n",
       "    <tr style=\"text-align: right;\">\n",
       "      <th></th>\n",
       "      <th>recency</th>\n",
       "      <th>history</th>\n",
       "      <th>mens</th>\n",
       "      <th>womens</th>\n",
       "      <th>zip_code</th>\n",
       "      <th>newbie</th>\n",
       "      <th>channel</th>\n",
       "      <th>segment</th>\n",
       "      <th>visit</th>\n",
       "      <th>conversion</th>\n",
       "      <th>spend</th>\n",
       "    </tr>\n",
       "  </thead>\n",
       "  <tbody>\n",
       "    <tr>\n",
       "      <th>0</th>\n",
       "      <td>10</td>\n",
       "      <td>142.44</td>\n",
       "      <td>1</td>\n",
       "      <td>0</td>\n",
       "      <td>Surburban</td>\n",
       "      <td>0</td>\n",
       "      <td>Phone</td>\n",
       "      <td>Womens E-Mail</td>\n",
       "      <td>0</td>\n",
       "      <td>0</td>\n",
       "      <td>0.0</td>\n",
       "    </tr>\n",
       "    <tr>\n",
       "      <th>1</th>\n",
       "      <td>6</td>\n",
       "      <td>329.08</td>\n",
       "      <td>1</td>\n",
       "      <td>1</td>\n",
       "      <td>Rural</td>\n",
       "      <td>1</td>\n",
       "      <td>Web</td>\n",
       "      <td>No E-Mail</td>\n",
       "      <td>0</td>\n",
       "      <td>0</td>\n",
       "      <td>0.0</td>\n",
       "    </tr>\n",
       "    <tr>\n",
       "      <th>2</th>\n",
       "      <td>7</td>\n",
       "      <td>180.65</td>\n",
       "      <td>0</td>\n",
       "      <td>1</td>\n",
       "      <td>Surburban</td>\n",
       "      <td>1</td>\n",
       "      <td>Web</td>\n",
       "      <td>Womens E-Mail</td>\n",
       "      <td>0</td>\n",
       "      <td>0</td>\n",
       "      <td>0.0</td>\n",
       "    </tr>\n",
       "    <tr>\n",
       "      <th>3</th>\n",
       "      <td>9</td>\n",
       "      <td>675.83</td>\n",
       "      <td>1</td>\n",
       "      <td>0</td>\n",
       "      <td>Rural</td>\n",
       "      <td>1</td>\n",
       "      <td>Web</td>\n",
       "      <td>Mens E-Mail</td>\n",
       "      <td>0</td>\n",
       "      <td>0</td>\n",
       "      <td>0.0</td>\n",
       "    </tr>\n",
       "    <tr>\n",
       "      <th>4</th>\n",
       "      <td>2</td>\n",
       "      <td>45.34</td>\n",
       "      <td>1</td>\n",
       "      <td>0</td>\n",
       "      <td>Urban</td>\n",
       "      <td>0</td>\n",
       "      <td>Web</td>\n",
       "      <td>Womens E-Mail</td>\n",
       "      <td>0</td>\n",
       "      <td>0</td>\n",
       "      <td>0.0</td>\n",
       "    </tr>\n",
       "  </tbody>\n",
       "</table>\n",
       "</div>"
      ],
      "text/plain": [
       "   recency  history  mens  womens   zip_code  newbie channel        segment  \\\n",
       "0       10   142.44     1       0  Surburban       0   Phone  Womens E-Mail   \n",
       "1        6   329.08     1       1      Rural       1     Web      No E-Mail   \n",
       "2        7   180.65     0       1  Surburban       1     Web  Womens E-Mail   \n",
       "3        9   675.83     1       0      Rural       1     Web    Mens E-Mail   \n",
       "4        2    45.34     1       0      Urban       0     Web  Womens E-Mail   \n",
       "\n",
       "   visit  conversion  spend  \n",
       "0      0           0    0.0  \n",
       "1      0           0    0.0  \n",
       "2      0           0    0.0  \n",
       "3      0           0    0.0  \n",
       "4      0           0    0.0  "
      ]
     },
     "execution_count": 5,
     "metadata": {},
     "output_type": "execute_result"
    }
   ],
   "source": [
    "df.head()"
   ]
  },
  {
   "cell_type": "code",
   "execution_count": 6,
   "id": "34a98b74",
   "metadata": {},
   "outputs": [],
   "source": [
    "# Data preprocessing pipeline\n",
    "numeric_features = ['recency', 'history']\n",
    "numeric_transformer = Pipeline(steps=[\n",
    "    ('scaler', StandardScaler())\n",
    "])\n",
    "\n",
    "categorical_features = ['zip_code', 'channel', 'segment']\n",
    "categorical_transformer = Pipeline(steps=[\n",
    "    ('onehot', OneHotEncoder(handle_unknown='ignore'))\n",
    "])\n",
    "\n",
    "preprocessor = ColumnTransformer(\n",
    "    transformers=[\n",
    "        ('num', numeric_transformer, numeric_features),\n",
    "        ('cat', categorical_transformer, categorical_features)\n",
    "    ])\n"
   ]
  },
  {
   "cell_type": "code",
   "execution_count": 7,
   "id": "3b396a9b",
   "metadata": {},
   "outputs": [],
   "source": [
    "# Split data into train and test sets\n",
    "X = df.drop(['conversion', 'spend'], axis=1)\n",
    "y_conv = df['conversion']\n",
    "y_spend = df['spend']\n",
    "\n",
    "X_train, X_test, y_conv_train, y_conv_test, y_spend_train, y_spend_test = train_test_split(\n",
    "    X, y_conv, y_spend, test_size=0.2, random_state=42)"
   ]
  },
  {
   "cell_type": "code",
   "execution_count": 8,
   "id": "7a66fcc7",
   "metadata": {},
   "outputs": [],
   "source": [
    "# Convert y_spend_train to binary labels\n",
    "y_spend_train_binary = (y_spend_train > 0).astype(int)"
   ]
  },
  {
   "cell_type": "code",
   "execution_count": 22,
   "id": "c17cad06",
   "metadata": {},
   "outputs": [
    {
     "name": "stdout",
     "output_type": "stream",
     "text": [
      "T-Learner Uplift AUC: 0.4423032818418561\n"
     ]
    }
   ],
   "source": [
    "# T-Learner for uplift modeling\n",
    "learner_conversion = LogisticRegression(**tl_hyperparameters['lr'])\n",
    "learner_spend = RandomForestClassifier(**tl_hyperparameters['rf'])\n",
    "\n",
    "learner_conversion.fit(preprocessor.fit_transform(X_train), y_conv_train)\n",
    "learner_spend.fit(preprocessor.fit_transform(X_train), y_spend_train_binary)\n",
    "\n",
    "conversion_proba = learner_conversion.predict_proba(preprocessor.transform(X_test))[:, 1]\n",
    "spend_proba = learner_spend.predict_proba(preprocessor.transform(X_test))[:, 1]\n",
    "\n",
    "uplift_score = conversion_proba - spend_proba\n",
    "uplift_auc = roc_auc_score(y_conv_test, uplift_score)\n",
    "print(f\"T-Learner Uplift AUC: {uplift_auc}\")"
   ]
  },
  {
   "cell_type": "code",
   "execution_count": 23,
   "id": "381ee666",
   "metadata": {},
   "outputs": [],
   "source": [
    "learner_conversion_xgb = xgb.XGBClassifier(**xgb_hyperparameters)\n",
    "learner_conversion_xgb.fit(preprocessor.fit_transform(X_train), y_conv_train)\n",
    "conversion_proba_xgb = learner_conversion_xgb.predict_proba(preprocessor.transform(X_test))[:, 1]\n"
   ]
  },
  {
   "cell_type": "code",
   "execution_count": 24,
   "id": "aea6e91d",
   "metadata": {},
   "outputs": [
    {
     "name": "stdout",
     "output_type": "stream",
     "text": [
      "XGBoost Uplift AUC: 0.48442123875473486\n"
     ]
    }
   ],
   "source": [
    "uplift_score_xgb = conversion_proba_xgb - spend_proba\n",
    "uplift_auc_xgb = roc_auc_score(y_conv_test, uplift_score_xgb)\n",
    "print(f\"XGBoost Uplift AUC: {uplift_auc_xgb}\")\n"
   ]
  },
  {
   "cell_type": "code",
   "execution_count": 12,
   "id": "45d23f6a",
   "metadata": {},
   "outputs": [],
   "source": [
    "param_grid = {\n",
    "    'eta': [0.01, 0.1, 0.3],\n",
    "    'max_depth': [3, 4, 5, 6],\n",
    "    'subsample': [0.7, 0.8, 0.9],\n",
    "    'colsample_bytree': [0.7, 0.8, 0.9],\n",
    "    'eval_metric': ['auc']\n",
    "}\n",
    "grid_search = GridSearchCV(\n",
    "    estimator=xgb.XGBClassifier(objective='binary:logistic'),\n",
    "    param_grid=param_grid,\n",
    "    scoring='roc_auc',\n",
    "    cv=3,\n",
    "    verbose=1,\n",
    "    n_jobs=-1\n",
    ")"
   ]
  },
  {
   "cell_type": "code",
   "execution_count": 13,
   "id": "4d6c4a8c",
   "metadata": {},
   "outputs": [
    {
     "name": "stdout",
     "output_type": "stream",
     "text": [
      "Fitting 3 folds for each of 108 candidates, totalling 324 fits\n"
     ]
    }
   ],
   "source": [
    "grid_search.fit(preprocessor.fit_transform(X_train), y_conv_train)\n",
    "best_xgb = grid_search.best_estimator_\n",
    "best_params = grid_search.best_params_\n"
   ]
  },
  {
   "cell_type": "code",
   "execution_count": 14,
   "id": "5661dcb7",
   "metadata": {},
   "outputs": [
    {
     "name": "stdout",
     "output_type": "stream",
     "text": [
      "Optimized XGBoost Uplift AUC: 0.4938758310645518\n"
     ]
    }
   ],
   "source": [
    "conversion_proba_optimized = best_xgb.predict_proba(preprocessor.transform(X_test))[:, 1]\n",
    "uplift_score_optimized = conversion_proba_optimized - spend_proba\n",
    "uplift_auc_optimized = roc_auc_score(y_conv_test, uplift_score_optimized)\n",
    "print(f\"Optimized XGBoost Uplift AUC: {uplift_auc_optimized}\")\n"
   ]
  },
  {
   "cell_type": "code",
   "execution_count": 15,
   "id": "5f8a4fea",
   "metadata": {},
   "outputs": [
    {
     "data": {
      "image/png": "[encoded data removed]",
      "text/plain": [
       "<Figure size 576x432 with 1 Axes>"
      ]
     },
     "metadata": {
      "needs_background": "light"
     },
     "output_type": "display_data"
    }
   ],
   "source": [
    "# Compute ROC curve for each model\n",
    "fpr_lr_rf, tpr_lr_rf, _ = roc_curve(y_conv_test, uplift_score)\n",
    "fpr_xgb, tpr_xgb, _ = roc_curve(y_conv_test, uplift_score_optimized)\n",
    "\n",
    "# Plot ROC curves\n",
    "plt.figure(figsize=(8, 6))\n",
    "plt.plot(fpr_lr_rf, tpr_lr_rf, label='T-Learner (Logistic Regression + Random Forest)')\n",
    "plt.plot(fpr_xgb, tpr_xgb, label='Optimized XGBoost')\n",
    "plt.plot([0, 1], [0, 1], color='gray', linestyle='--', label='Random Guess')\n",
    "plt.xlabel('False Positive Rate')\n",
    "plt.ylabel('True Positive Rate')\n",
    "plt.title('ROC Curve')\n",
    "plt.legend()\n",
    "plt.grid(True)\n",
    "plt.show()"
   ]
  },
  {
   "cell_type": "code",
   "execution_count": 16,
   "id": "368b275b",
   "metadata": {},
   "outputs": [
    {
     "data": {
      "image/png": "[encoded data removed]",
      "text/plain": [
       "<Figure size 576x432 with 1 Axes>"
      ]
     },
     "metadata": {
      "needs_background": "light"
     },
     "output_type": "display_data"
    }
   ],
   "source": [
    "# Sort uplift scores to plot lift curve\n",
    "sorted_indices = np.argsort(uplift_score)[::-1]\n",
    "sorted_uplift = uplift_score[sorted_indices]\n",
    "\n",
    "# Calculate cumulative percentage of individuals targeted\n",
    "cumulative_population = np.arange(1, len(y_conv_test) + 1) / len(y_conv_test) * 100\n",
    "\n",
    "# Plot lift curve\n",
    "plt.figure(figsize=(8, 6))\n",
    "plt.plot(cumulative_population, sorted_uplift.cumsum(), label='T-Learner (Logistic Regression + Random Forest)')\n",
    "plt.xlabel('Percentage of Population Targeted')\n",
    "plt.ylabel('Cumulative Uplift Score')\n",
    "plt.title('Cumulative Lift Curve')\n",
    "plt.legend()\n",
    "plt.grid(True)\n",
    "plt.show()\n"
   ]
  },
  {
   "cell_type": "code",
   "execution_count": 17,
   "id": "dd5ec91d",
   "metadata": {},
   "outputs": [
    {
     "data": {
      "image/png": "[encoded data removed]",
      "text/plain": [
       "<Figure size 576x432 with 1 Axes>"
      ]
     },
     "metadata": {
      "needs_background": "light"
     },
     "output_type": "display_data"
    }
   ],
   "source": [
    "# Plot distribution of uplift scores\n",
    "plt.figure(figsize=(8, 6))\n",
    "plt.hist(uplift_score, bins=30, alpha=0.7, label='T-Learner (Logistic Regression + Random Forest)')\n",
    "plt.hist(uplift_score_optimized, bins=30, alpha=0.7, label='Optimized XGBoost')\n",
    "plt.xlabel('Uplift Score')\n",
    "plt.ylabel('Frequency')\n",
    "plt.title('Distribution of Uplift Scores')\n",
    "plt.legend()\n",
    "plt.grid(True)\n",
    "plt.show()\n"
   ]
  }
 ],
 "metadata": {
  "kernelspec": {
   "display_name": "Python 3 (ipykernel)",
   "language": "python",
   "name": "python3"
  },
  "language_info": {
   "codemirror_mode": {
    "name": "ipython",
    "version": 3
   },
   "file_extension": ".py",
   "mimetype": "text/x-python",
   "name": "python",
   "nbconvert_exporter": "python",
   "pygments_lexer": "ipython3",
   "version": "3.9.12"
  }
 },
 "nbformat": 4,
 "nbformat_minor": 5
}
